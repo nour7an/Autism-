{
  "nbformat": 4,
  "nbformat_minor": 0,
  "metadata": {
    "colab": {
      "provenance": [],
      "authorship_tag": "ABX9TyN0UMM/szxbKRXRr/WHQeGQ",
      "include_colab_link": true
    },
    "kernelspec": {
      "name": "python3",
      "display_name": "Python 3"
    },
    "language_info": {
      "name": "python"
    }
  },
  "cells": [
    {
      "cell_type": "markdown",
      "metadata": {
        "id": "view-in-github",
        "colab_type": "text"
      },
      "source": [
        "<a href=\"https://colab.research.google.com/github/nourhan254/Autism-/blob/main/CNN_Alzheimer.ipynb\" target=\"_parent\"><img src=\"https://colab.research.google.com/assets/colab-badge.svg\" alt=\"Open In Colab\"/></a>"
      ]
    },
    {
      "cell_type": "code",
      "execution_count": 1,
      "metadata": {
        "colab": {
          "base_uri": "https://localhost:8080/"
        },
        "id": "Z8bIBypJafAX",
        "outputId": "5a818e00-f0f2-4122-d851-331fad3434dd"
      },
      "outputs": [
        {
          "output_type": "stream",
          "name": "stdout",
          "text": [
            "Mounted at /content/drive\n",
            "Found 522 files belonging to 2 classes.\n",
            "Found 51 files belonging to 2 classes.\n",
            "Downloading data from https://storage.googleapis.com/tensorflow/keras-applications/mobilenet_v2/mobilenet_v2_weights_tf_dim_ordering_tf_kernels_1.0_224_no_top.h5\n",
            "\u001b[1m9406464/9406464\u001b[0m \u001b[32m━━━━━━━━━━━━━━━━━━━━\u001b[0m\u001b[37m\u001b[0m \u001b[1m1s\u001b[0m 0us/step\n",
            "Epoch 1/20\n",
            "\u001b[1m17/17\u001b[0m \u001b[32m━━━━━━━━━━━━━━━━━━━━\u001b[0m\u001b[37m\u001b[0m \u001b[1m78s\u001b[0m 4s/step - accuracy: 0.5620 - loss: 0.9176 - val_accuracy: 0.6863 - val_loss: 0.6698 - learning_rate: 1.0000e-04\n",
            "Epoch 2/20\n",
            "\u001b[1m17/17\u001b[0m \u001b[32m━━━━━━━━━━━━━━━━━━━━\u001b[0m\u001b[37m\u001b[0m \u001b[1m29s\u001b[0m 2s/step - accuracy: 0.5019 - loss: 0.9273 - val_accuracy: 0.5882 - val_loss: 0.6736 - learning_rate: 1.0000e-04\n",
            "Epoch 3/20\n",
            "\u001b[1m17/17\u001b[0m \u001b[32m━━━━━━━━━━━━━━━━━━━━\u001b[0m\u001b[37m\u001b[0m \u001b[1m40s\u001b[0m 2s/step - accuracy: 0.5034 - loss: 0.8874 - val_accuracy: 0.5490 - val_loss: 0.6739 - learning_rate: 1.0000e-04\n",
            "Epoch 4/20\n",
            "\u001b[1m17/17\u001b[0m \u001b[32m━━━━━━━━━━━━━━━━━━━━\u001b[0m\u001b[37m\u001b[0m \u001b[1m43s\u001b[0m 2s/step - accuracy: 0.5158 - loss: 0.8931 - val_accuracy: 0.5490 - val_loss: 0.6733 - learning_rate: 2.0000e-05\n",
            "Epoch 5/20\n",
            "\u001b[1m17/17\u001b[0m \u001b[32m━━━━━━━━━━━━━━━━━━━━\u001b[0m\u001b[37m\u001b[0m \u001b[1m39s\u001b[0m 2s/step - accuracy: 0.5265 - loss: 0.8755 - val_accuracy: 0.5490 - val_loss: 0.6730 - learning_rate: 2.0000e-05\n"
          ]
        }
      ],
      "source": [
        "# Mount Google Drive\n",
        "from google.colab import drive\n",
        "drive.mount('/content/drive')\n",
        "\n",
        "# Imports\n",
        "import tensorflow as tf\n",
        "from tensorflow.keras.applications import MobileNetV2\n",
        "from tensorflow.keras.models import Model\n",
        "from tensorflow.keras.layers import Dense, Dropout, GlobalAveragePooling2D\n",
        "from tensorflow.keras.optimizers import Adam\n",
        "from tensorflow.keras.callbacks import EarlyStopping, ReduceLROnPlateau\n",
        "import numpy as np\n",
        "import cv2\n",
        "import os\n",
        "\n",
        "# Paths\n",
        "train_path = '/content/drive/MyDrive/ProcessedImage/training_set'\n",
        "test_path = '/content/drive/MyDrive/ProcessedImage/test_set'\n",
        "\n",
        "# Image size and batch\n",
        "IMG_SIZE = (224, 224)\n",
        "BATCH_SIZE = 32\n",
        "\n",
        "# Data Augmentation\n",
        "data_augmentation = tf.keras.Sequential([\n",
        "    tf.keras.layers.RandomFlip(\"horizontal\"),\n",
        "    tf.keras.layers.RandomRotation(0.1),\n",
        "    tf.keras.layers.RandomZoom(0.1),\n",
        "    tf.keras.layers.RandomContrast(0.1)\n",
        "])\n",
        "\n",
        "# Load training data with augmentation\n",
        "train_ds = tf.keras.utils.image_dataset_from_directory(\n",
        "    train_path,\n",
        "    image_size=IMG_SIZE,\n",
        "    batch_size=BATCH_SIZE,\n",
        "    label_mode='binary',\n",
        "    shuffle=True\n",
        ").map(lambda x, y: (data_augmentation(x) / 255.0, y)).cache().prefetch(buffer_size=tf.data.AUTOTUNE)\n",
        "\n",
        "# Load validation (test) data\n",
        "val_ds = tf.keras.utils.image_dataset_from_directory(\n",
        "    test_path,\n",
        "    image_size=IMG_SIZE,\n",
        "    batch_size=BATCH_SIZE,\n",
        "    label_mode='binary',\n",
        "    shuffle=False\n",
        ").map(lambda x, y: (x / 255.0, y)).cache().prefetch(buffer_size=tf.data.AUTOTUNE)\n",
        "\n",
        "# Build the model using MobileNetV2\n",
        "base_model = MobileNetV2(input_shape=(224, 224, 3), include_top=False, weights='imagenet')\n",
        "base_model.trainable = False\n",
        "\n",
        "inputs = tf.keras.Input(shape=(224, 224, 3))\n",
        "x = base_model(inputs, training=False)\n",
        "x = GlobalAveragePooling2D()(x)\n",
        "x = Dropout(0.3)(x)\n",
        "outputs = Dense(1, activation='sigmoid')(x)\n",
        "model = Model(inputs, outputs)\n",
        "\n",
        "# Compile\n",
        "model.compile(optimizer=Adam(0.0001),\n",
        "              loss='binary_crossentropy',\n",
        "              metrics=['accuracy'])\n",
        "\n",
        "# Class weights to handle imbalance (Normal: 315, AD: 207)\n",
        "class_weight = {0: 1.52, 1: 1.0}\n",
        "\n",
        "# Callbacks\n",
        "early_stop = EarlyStopping(monitor='val_loss', patience=4, restore_best_weights=True)\n",
        "reduce_lr = ReduceLROnPlateau(monitor='val_loss', patience=2, factor=0.2, min_lr=1e-6)\n",
        "\n",
        "# Train\n",
        "history = model.fit(\n",
        "    train_ds,\n",
        "    validation_data=val_ds,\n",
        "    epochs=20,\n",
        "    class_weight=class_weight,\n",
        "    callbacks=[early_stop, reduce_lr]\n",
        ")\n"
      ]
    },
    {
      "cell_type": "code",
      "source": [
        "# Path to a test image\n",
        "img_path = '/content/drive/MyDrive/ProcessedImage/test.png'  # change as needed\n",
        "\n",
        "# Load and preprocess\n",
        "img = cv2.imread(img_path)\n",
        "img = cv2.cvtColor(img, cv2.COLOR_BGR2RGB)\n",
        "img_resized = tf.image.resize(img, IMG_SIZE)\n",
        "img_normalized = img_resized / 255.0\n",
        "img_expanded = np.expand_dims(img_normalized, axis=0)\n",
        "\n",
        "# Predict\n",
        "pred = model.predict(img_expanded)\n",
        "label = 'AD' if pred[0][0] > 0.5 else 'Normal'\n",
        "print(f\"Predicted Class: {label} ({pred[0][0]:.4f})\")\n"
      ],
      "metadata": {
        "colab": {
          "base_uri": "https://localhost:8080/"
        },
        "id": "3_sKibsGcHpJ",
        "outputId": "dc4fbc16-e2b8-40ad-ec70-cb6ce341d906"
      },
      "execution_count": 4,
      "outputs": [
        {
          "output_type": "stream",
          "name": "stdout",
          "text": [
            "\u001b[1m1/1\u001b[0m \u001b[32m━━━━━━━━━━━━━━━━━━━━\u001b[0m\u001b[37m\u001b[0m \u001b[1m0s\u001b[0m 105ms/step\n",
            "Predicted Class: AD (0.7186)\n"
          ]
        }
      ]
    }
  ]
}