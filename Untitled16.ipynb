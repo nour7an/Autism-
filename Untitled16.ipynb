{
  "nbformat": 4,
  "nbformat_minor": 0,
  "metadata": {
    "colab": {
      "provenance": [],
      "authorship_tag": "ABX9TyMneFXXYugpVF8JbQ2sspnV",
      "include_colab_link": true
    },
    "kernelspec": {
      "name": "python3",
      "display_name": "Python 3"
    },
    "language_info": {
      "name": "python"
    }
  },
  "cells": [
    {
      "cell_type": "markdown",
      "metadata": {
        "id": "view-in-github",
        "colab_type": "text"
      },
      "source": [
        "<a href=\"https://colab.research.google.com/github/nour7an/Autism-/blob/main/Untitled16.ipynb\" target=\"_parent\"><img src=\"https://colab.research.google.com/assets/colab-badge.svg\" alt=\"Open In Colab\"/></a>"
      ]
    },
    {
      "cell_type": "code",
      "execution_count": 46,
      "metadata": {
        "colab": {
          "base_uri": "https://localhost:8080/"
        },
        "id": "v08iNB5Nktlr",
        "outputId": "169fd481-eeab-40e7-9dea-bd6e9f9321b2"
      },
      "outputs": [
        {
          "output_type": "stream",
          "name": "stderr",
          "text": [
            "/usr/local/lib/python3.11/dist-packages/keras/src/layers/rnn/rnn.py:200: UserWarning: Do not pass an `input_shape`/`input_dim` argument to a layer. When using Sequential models, prefer using an `Input(shape)` object as the first layer in the model instead.\n",
            "  super().__init__(**kwargs)\n"
          ]
        },
        {
          "output_type": "stream",
          "name": "stdout",
          "text": [
            "\n",
            "🌍 Federated Round 1/3\n",
            "  🏠 Training on Site 1\n",
            "  🏠 Training on Site 2\n",
            "\n",
            "🌍 Federated Round 2/3\n",
            "  🏠 Training on Site 1\n",
            "  🏠 Training on Site 2\n",
            "\n",
            "🌍 Federated Round 3/3\n",
            "  🏠 Training on Site 1\n",
            "  🏠 Training on Site 2\n",
            "\n",
            "🌍 Evaluating Global Model\n",
            "\u001b[1m68/68\u001b[0m \u001b[32m━━━━━━━━━━━━━━━━━━━━\u001b[0m\u001b[37m\u001b[0m \u001b[1m1s\u001b[0m 2ms/step - accuracy: 0.9263 - loss: 0.1867\n",
            "🌍 Global Model Accuracy: 0.9065\n",
            "🏠 Site 1 Accuracy: 0.9181\n",
            "🏠 Site 2 Accuracy: 0.8949\n"
          ]
        }
      ],
      "source": [
        "# Federated Learning on Alzheimer Dataset with GRU\n",
        "\n",
        "import pandas as pd\n",
        "import numpy as np\n",
        "from sklearn.model_selection import train_test_split\n",
        "from sklearn.preprocessing import StandardScaler\n",
        "from tensorflow.keras.models import Sequential\n",
        "from tensorflow.keras.layers import GRU, Dense\n",
        "from tensorflow.keras.utils import to_categorical\n",
        "\n",
        "# Load dataset\n",
        "df = pd.read_csv(\"alzheimers_disease_data.csv\")\n",
        "df = df.drop(columns=[\"PatientID\", \"DoctorInCharge\"])\n",
        "\n",
        "# Split features and labels\n",
        "X = df.drop(\"Diagnosis\", axis=1).values\n",
        "y = df[\"Diagnosis\"].values\n",
        "\n",
        "# Scale features\n",
        "scaler = StandardScaler()\n",
        "X = scaler.fit_transform(X)\n",
        "\n",
        "# Convert to categorical if needed (binary)\n",
        "num_classes = len(np.unique(y))\n",
        "y_cat = to_categorical(y, num_classes=num_classes)\n",
        "\n",
        "# Reshape for GRU (samples, timesteps, features)\n",
        "X = X.reshape((X.shape[0], 1, X.shape[1]))\n",
        "\n",
        "# Simulate 2 federated clients\n",
        "X1, X2, y1, y2 = train_test_split(X, y_cat, test_size=0.5, random_state=42)\n",
        "\n",
        "# Helper to build GRU model\n",
        "def build_model(input_shape, num_classes):\n",
        "    model = Sequential()\n",
        "    model.add(GRU(64, input_shape=input_shape))\n",
        "    model.add(Dense(32, activation='relu'))\n",
        "    model.add(Dense(num_classes, activation='softmax'))\n",
        "    model.compile(optimizer='adam', loss='categorical_crossentropy', metrics=['accuracy'])\n",
        "    return model\n",
        "\n",
        "# Federated training (FedAvg)\n",
        "def federated_train(X_parts, y_parts, rounds=3):\n",
        "    global_model = build_model((X.shape[1], X.shape[2]), num_classes)\n",
        "\n",
        "    for r in range(rounds):\n",
        "        print(f\"\\n\\U0001F30D Federated Round {r+1}/{rounds}\")\n",
        "        local_weights = []\n",
        "\n",
        "        for i, (X_local, y_local) in enumerate(zip(X_parts, y_parts)):\n",
        "            print(f\"  \\U0001F3E0 Training on Site {i+1}\")\n",
        "            model = build_model((X.shape[1], X.shape[2]), num_classes)\n",
        "            model.set_weights(global_model.get_weights())\n",
        "            model.fit(X_local, y_local, epochs=5, verbose=0)\n",
        "            local_weights.append(model.get_weights())\n",
        "\n",
        "        # FedAvg\n",
        "        new_weights = []\n",
        "        for weights in zip(*local_weights):\n",
        "            new_weights.append(np.mean(weights, axis=0))\n",
        "        global_model.set_weights(new_weights)\n",
        "\n",
        "    return global_model\n",
        "\n",
        "# Train global model\n",
        "X_parts = [X1, X2]\n",
        "y_parts = [y1, y2]\n",
        "global_model = federated_train(X_parts, y_parts, rounds=3)\n",
        "\n",
        "# Evaluate global model\n",
        "print(\"\\n\\U0001F30D Evaluating Global Model\")\n",
        "loss, acc = global_model.evaluate(X, y_cat, verbose=1)\n",
        "print(f\"\\U0001F30D Global Model Accuracy: {acc:.4f}\")\n",
        "\n",
        "# Evaluate each site\n",
        "for i, (X_local, y_local) in enumerate(zip(X_parts, y_parts)):\n",
        "    _, acc_local = global_model.evaluate(X_local, y_local, verbose=0)\n",
        "    print(f\"\\U0001F3E0 Site {i+1} Accuracy: {acc_local:.4f}\")\n"
      ]
    },
    {
      "cell_type": "code",
      "source": [],
      "metadata": {
        "id": "FbMhqqhek5bw"
      },
      "execution_count": 16,
      "outputs": []
    },
    {
      "cell_type": "code",
      "source": [],
      "metadata": {
        "id": "Q9SV3k6ilOaF"
      },
      "execution_count": 17,
      "outputs": []
    },
    {
      "cell_type": "code",
      "source": [],
      "metadata": {
        "id": "cjiFtuKplnJ-"
      },
      "execution_count": 38,
      "outputs": []
    },
    {
      "cell_type": "code",
      "source": [
        "\n",
        "\n"
      ],
      "metadata": {
        "id": "2_2Wvd14z5w1"
      },
      "execution_count": 39,
      "outputs": []
    },
    {
      "cell_type": "code",
      "source": [],
      "metadata": {
        "id": "mBiaA8jPlqek"
      },
      "execution_count": 40,
      "outputs": []
    },
    {
      "cell_type": "code",
      "source": [],
      "metadata": {
        "id": "C6SN_07ylwWb"
      },
      "execution_count": 41,
      "outputs": []
    },
    {
      "cell_type": "code",
      "source": [],
      "metadata": {
        "colab": {
          "base_uri": "https://localhost:8080/"
        },
        "id": "tOvSE5SAzak8",
        "outputId": "92dd4604-58d7-4fce-9860-afbdcbbaa011"
      },
      "execution_count": 42,
      "outputs": [
        {
          "output_type": "stream",
          "name": "stdout",
          "text": [
            "Training model on site 1...\n"
          ]
        },
        {
          "output_type": "stream",
          "name": "stderr",
          "text": [
            "/usr/local/lib/python3.11/dist-packages/keras/src/layers/rnn/rnn.py:200: UserWarning: Do not pass an `input_shape`/`input_dim` argument to a layer. When using Sequential models, prefer using an `Input(shape)` object as the first layer in the model instead.\n",
            "  super().__init__(**kwargs)\n"
          ]
        },
        {
          "output_type": "stream",
          "name": "stdout",
          "text": [
            "Training model on site 2...\n"
          ]
        }
      ]
    },
    {
      "cell_type": "code",
      "source": [],
      "metadata": {
        "id": "PxvdAdJ7l1HK"
      },
      "execution_count": 43,
      "outputs": []
    },
    {
      "cell_type": "code",
      "source": [],
      "metadata": {
        "colab": {
          "base_uri": "https://localhost:8080/"
        },
        "id": "GnhLAXQMmAxY",
        "outputId": "e4ac9c45-4130-4752-efab-3f8c57788a93"
      },
      "execution_count": 44,
      "outputs": [
        {
          "output_type": "stream",
          "name": "stdout",
          "text": [
            "\u001b[1m7/7\u001b[0m \u001b[32m━━━━━━━━━━━━━━━━━━━━\u001b[0m\u001b[37m\u001b[0m \u001b[1m1s\u001b[0m 62ms/step\n",
            "🌍 Global Model Accuracy: 0.5399\n",
            "\u001b[1m7/7\u001b[0m \u001b[32m━━━━━━━━━━━━━━━━━━━━\u001b[0m\u001b[37m\u001b[0m \u001b[1m1s\u001b[0m 64ms/step\n",
            "🏠 Site 1 Accuracy: 0.5493\n",
            "\u001b[1m7/7\u001b[0m \u001b[32m━━━━━━━━━━━━━━━━━━━━\u001b[0m\u001b[37m\u001b[0m \u001b[1m1s\u001b[0m 63ms/step\n",
            "🏠 Site 2 Accuracy: 0.5305\n"
          ]
        }
      ]
    },
    {
      "cell_type": "code",
      "source": [],
      "metadata": {
        "colab": {
          "base_uri": "https://localhost:8080/"
        },
        "id": "OdN07uvM30kk",
        "outputId": "db1145c3-37f0-4032-b044-8ebf7ba74f4f"
      },
      "execution_count": 27,
      "outputs": [
        {
          "output_type": "execute_result",
          "data": {
            "text/plain": [
              "(array([0, 1]), array([514, 549]))"
            ]
          },
          "metadata": {},
          "execution_count": 27
        }
      ]
    },
    {
      "cell_type": "code",
      "source": [],
      "metadata": {
        "colab": {
          "base_uri": "https://localhost:8080/"
        },
        "id": "ETztI0HMmERx",
        "outputId": "e5ab0db7-5c47-4529-8fb2-6d6c8bec9adf"
      },
      "execution_count": 9,
      "outputs": [
        {
          "output_type": "stream",
          "name": "stdout",
          "text": [
            "\u001b[1m7/7\u001b[0m \u001b[32m━━━━━━━━━━━━━━━━━━━━\u001b[0m\u001b[37m\u001b[0m \u001b[1m2s\u001b[0m 107ms/step\n",
            "\n",
            "🌍 Global Model Accuracy: 0.5305\n"
          ]
        }
      ]
    },
    {
      "cell_type": "code",
      "source": [],
      "metadata": {
        "colab": {
          "base_uri": "https://localhost:8080/"
        },
        "id": "mozBxBd0mJPu",
        "outputId": "c647f954-c1ab-4946-d5b9-95b307680d6f"
      },
      "execution_count": 10,
      "outputs": [
        {
          "output_type": "stream",
          "name": "stdout",
          "text": [
            "\u001b[1m7/7\u001b[0m \u001b[32m━━━━━━━━━━━━━━━━━━━━\u001b[0m\u001b[37m\u001b[0m \u001b[1m1s\u001b[0m 80ms/step\n",
            "Site 1 Model Accuracy: 0.5305\n"
          ]
        },
        {
          "output_type": "stream",
          "name": "stderr",
          "text": [
            "WARNING:tensorflow:5 out of the last 15 calls to <function TensorFlowTrainer.make_predict_function.<locals>.one_step_on_data_distributed at 0x7fe34a491bc0> triggered tf.function retracing. Tracing is expensive and the excessive number of tracings could be due to (1) creating @tf.function repeatedly in a loop, (2) passing tensors with different shapes, (3) passing Python objects instead of tensors. For (1), please define your @tf.function outside of the loop. For (2), @tf.function has reduce_retracing=True option that can avoid unnecessary retracing. For (3), please refer to https://www.tensorflow.org/guide/function#controlling_retracing and https://www.tensorflow.org/api_docs/python/tf/function for  more details.\n"
          ]
        },
        {
          "output_type": "stream",
          "name": "stdout",
          "text": [
            "\u001b[1m7/7\u001b[0m \u001b[32m━━━━━━━━━━━━━━━━━━━━\u001b[0m\u001b[37m\u001b[0m \u001b[1m1s\u001b[0m 47ms/step\n",
            "Site 2 Model Accuracy: 0.5446\n"
          ]
        },
        {
          "output_type": "stream",
          "name": "stderr",
          "text": [
            "WARNING:tensorflow:5 out of the last 15 calls to <function TensorFlowTrainer.make_predict_function.<locals>.one_step_on_data_distributed at 0x7fe34a35f2e0> triggered tf.function retracing. Tracing is expensive and the excessive number of tracings could be due to (1) creating @tf.function repeatedly in a loop, (2) passing tensors with different shapes, (3) passing Python objects instead of tensors. For (1), please define your @tf.function outside of the loop. For (2), @tf.function has reduce_retracing=True option that can avoid unnecessary retracing. For (3), please refer to https://www.tensorflow.org/guide/function#controlling_retracing and https://www.tensorflow.org/api_docs/python/tf/function for  more details.\n"
          ]
        },
        {
          "output_type": "stream",
          "name": "stdout",
          "text": [
            "\u001b[1m7/7\u001b[0m \u001b[32m━━━━━━━━━━━━━━━━━━━━\u001b[0m\u001b[37m\u001b[0m \u001b[1m1s\u001b[0m 67ms/step\n",
            "Site 3 Model Accuracy: 0.5164\n",
            "\u001b[1m7/7\u001b[0m \u001b[32m━━━━━━━━━━━━━━━━━━━━\u001b[0m\u001b[37m\u001b[0m \u001b[1m1s\u001b[0m 65ms/step\n",
            "Site 4 Model Accuracy: 0.5305\n"
          ]
        }
      ]
    },
    {
      "cell_type": "code",
      "source": [
        "\n"
      ],
      "metadata": {
        "colab": {
          "base_uri": "https://localhost:8080/",
          "height": 468
        },
        "id": "JgEblY85mOMA",
        "outputId": "c6b4f425-dadf-44ee-8f89-c2a981c0d41b"
      },
      "execution_count": 11,
      "outputs": [
        {
          "output_type": "display_data",
          "data": {
            "text/plain": [
              "<Figure size 1000x500 with 1 Axes>"
            ],
            "image/png": "[encoded data removed]"
          },
          "metadata": {}
        }
      ]
    },
    {
      "cell_type": "code",
      "source": [
        "import numpy as np\n",
        "unique, counts = np.unique(np.argmax(y, axis=1), return_counts=True)\n",
        "print(\"Class distribution:\", dict(zip(unique, counts)))\n"
      ],
      "metadata": {
        "colab": {
          "base_uri": "https://localhost:8080/"
        },
        "id": "YMBtmb41zQIK",
        "outputId": "0362cec9-ab2f-4c53-ab35-a160ad614508"
      },
      "execution_count": 12,
      "outputs": [
        {
          "output_type": "stream",
          "name": "stdout",
          "text": [
            "Class distribution: {np.int64(0): np.int64(514), np.int64(1): np.int64(549)}\n"
          ]
        }
      ]
    }
  ]
}