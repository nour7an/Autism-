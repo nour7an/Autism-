{
  "nbformat": 4,
  "nbformat_minor": 0,
  "metadata": {
    "colab": {
      "provenance": [],
      "authorship_tag": "ABX9TyNsFt9Z1+Ij+xOkO113xKUE",
      "include_colab_link": true
    },
    "kernelspec": {
      "name": "python3",
      "display_name": "Python 3"
    },
    "language_info": {
      "name": "python"
    }
  },
  "cells": [
    {
      "cell_type": "markdown",
      "metadata": {
        "id": "view-in-github",
        "colab_type": "text"
      },
      "source": [
        "<a href=\"https://colab.research.google.com/github/nour7an/Autism-/blob/main/Untitled17.ipynb\" target=\"_parent\"><img src=\"https://colab.research.google.com/assets/colab-badge.svg\" alt=\"Open In Colab\"/></a>"
      ]
    },
    {
      "cell_type": "code",
      "execution_count": 1,
      "metadata": {
        "colab": {
          "base_uri": "https://localhost:8080/"
        },
        "id": "ZbhsWYE75kO_",
        "outputId": "7a32115b-df01-4b48-b574-0024271e38cc"
      },
      "outputs": [
        {
          "output_type": "stream",
          "name": "stderr",
          "text": [
            "/usr/local/lib/python3.11/dist-packages/keras/src/layers/rnn/bidirectional.py:107: UserWarning: Do not pass an `input_shape`/`input_dim` argument to a layer. When using Sequential models, prefer using an `Input(shape)` object as the first layer in the model instead.\n",
            "  super().__init__(**kwargs)\n"
          ]
        },
        {
          "output_type": "stream",
          "name": "stdout",
          "text": [
            "\n",
            "🌐 Federated Round 1/3\n",
            "  🏠 Training on Site 1\n",
            "  🏠 Training on Site 2\n",
            "\n",
            "🌐 Federated Round 2/3\n",
            "  🏠 Training on Site 1\n",
            "  🏠 Training on Site 2\n",
            "\n",
            "🌐 Federated Round 3/3\n",
            "  🏠 Training on Site 1\n",
            "  🏠 Training on Site 2\n",
            "\n",
            "🌍 Evaluating Global Model\n",
            "\u001b[1m18/18\u001b[0m \u001b[32m━━━━━━━━━━━━━━━━━━━━\u001b[0m\u001b[37m\u001b[0m \u001b[1m2s\u001b[0m 5ms/step - accuracy: 0.9819 - loss: 0.0630\n",
            "🌍 Global Model Accuracy: 0.9824\n",
            "\u001b[1m9/9\u001b[0m \u001b[32m━━━━━━━━━━━━━━━━━━━━\u001b[0m\u001b[37m\u001b[0m \u001b[1m0s\u001b[0m 10ms/step - accuracy: 0.9818 - loss: 0.0657\n",
            "🏠 Site 1 Accuracy: 0.9789\n",
            "\u001b[1m9/9\u001b[0m \u001b[32m━━━━━━━━━━━━━━━━━━━━\u001b[0m\u001b[37m\u001b[0m \u001b[1m0s\u001b[0m 9ms/step - accuracy: 0.9863 - loss: 0.0612 \n",
            "🏠 Site 2 Accuracy: 0.9859\n"
          ]
        }
      ],
      "source": [
        "import numpy as np\n",
        "from sklearn.datasets import load_breast_cancer\n",
        "from sklearn.model_selection import train_test_split\n",
        "from sklearn.preprocessing import StandardScaler\n",
        "from sklearn.decomposition import PCA\n",
        "from tensorflow.keras.models import Sequential\n",
        "from tensorflow.keras.layers import Dense, Dropout, GRU, Bidirectional\n",
        "from tensorflow.keras.utils import to_categorical\n",
        "from tensorflow.keras.callbacks import EarlyStopping\n",
        "import tensorflow as tf\n",
        "\n",
        "# ========== Step 1: Load & Prepare Data ==========\n",
        "data = load_breast_cancer()\n",
        "X, y = data.data, data.target\n",
        "\n",
        "# Optional PCA\n",
        "USE_PCA = False\n",
        "if USE_PCA:\n",
        "    pca = PCA(n_components=min(20, X.shape[1]))\n",
        "    X = pca.fit_transform(X)\n",
        "\n",
        "# Normalize\n",
        "scaler = StandardScaler()\n",
        "X = scaler.fit_transform(X)\n",
        "\n",
        "# Reshape for GRU input: (samples, time_steps=1, features)\n",
        "X = X.reshape((X.shape[0], 1, X.shape[1]))\n",
        "y = to_categorical(y)\n",
        "\n",
        "# ========== Step 2: Split into Sites ==========\n",
        "num_sites = 2\n",
        "X_splits = np.array_split(X, num_sites)\n",
        "y_splits = np.array_split(y, num_sites)\n",
        "\n",
        "# ========== Step 3: Define GRU Model ==========\n",
        "def create_bigru_model(input_shape, output_dim):\n",
        "    model = Sequential()\n",
        "    model.add(Bidirectional(GRU(64, return_sequences=True), input_shape=input_shape))\n",
        "    model.add(Dropout(0.3))\n",
        "    model.add(Bidirectional(GRU(32)))\n",
        "    model.add(Dropout(0.3))\n",
        "    model.add(Dense(64, activation='relu'))\n",
        "    model.add(Dense(output_dim, activation='softmax'))\n",
        "    model.compile(optimizer='adam', loss='categorical_crossentropy', metrics=['accuracy'])\n",
        "    return model\n",
        "\n",
        "# ========== Step 4: Federated Training ==========\n",
        "rounds = 3\n",
        "local_epochs = 5\n",
        "input_shape = (X.shape[1], X.shape[2])\n",
        "output_dim = y.shape[1]\n",
        "\n",
        "# Initialize global model\n",
        "global_model = create_bigru_model(input_shape, output_dim)\n",
        "global_weights = global_model.get_weights()\n",
        "\n",
        "for r in range(rounds):\n",
        "    print(f\"\\n🌐 Federated Round {r+1}/{rounds}\")\n",
        "    local_weights = []\n",
        "\n",
        "    for i in range(num_sites):\n",
        "        print(f\"  🏠 Training on Site {i+1}\")\n",
        "        model = create_bigru_model(input_shape, output_dim)\n",
        "        model.set_weights(global_weights)\n",
        "\n",
        "        early_stop = EarlyStopping(monitor='val_loss', patience=3, restore_best_weights=True)\n",
        "        model.fit(X_splits[i], y_splits[i], epochs=local_epochs, batch_size=16,\n",
        "                  validation_split=0.2, callbacks=[early_stop], verbose=0)\n",
        "\n",
        "        local_weights.append(model.get_weights())\n",
        "\n",
        "    # Federated Averaging\n",
        "    new_weights = []\n",
        "    for weights in zip(*local_weights):\n",
        "        new_weights.append(np.mean(weights, axis=0))\n",
        "    global_weights = new_weights\n",
        "    global_model.set_weights(global_weights)\n",
        "\n",
        "# ========== Step 5: Evaluation ==========\n",
        "print(\"\\n🌍 Evaluating Global Model\")\n",
        "global_model.compile(optimizer='adam', loss='categorical_crossentropy', metrics=['accuracy'])\n",
        "all_X = np.concatenate(X_splits)\n",
        "all_y = np.concatenate(y_splits)\n",
        "loss, acc = global_model.evaluate(all_X, all_y, verbose=1)\n",
        "print(f\"🌍 Global Model Accuracy: {acc:.4f}\")\n",
        "\n",
        "# Site-wise accuracy\n",
        "for i in range(num_sites):\n",
        "    _, acc = global_model.evaluate(X_splits[i], y_splits[i], verbose=1)\n",
        "    print(f\"🏠 Site {i+1} Accuracy: {acc:.4f}\")\n"
      ]
    }
  ]
}