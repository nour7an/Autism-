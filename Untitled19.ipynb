{
  "nbformat": 4,
  "nbformat_minor": 0,
  "metadata": {
    "colab": {
      "provenance": [],
      "authorship_tag": "ABX9TyN4cFr7WcGpeB9YpUoeky5m",
      "include_colab_link": true
    },
    "kernelspec": {
      "name": "python3",
      "display_name": "Python 3"
    },
    "language_info": {
      "name": "python"
    }
  },
  "cells": [
    {
      "cell_type": "markdown",
      "metadata": {
        "id": "view-in-github",
        "colab_type": "text"
      },
      "source": [
        "<a href=\"https://colab.research.google.com/github/nour7an/Autism-/blob/main/Untitled19.ipynb\" target=\"_parent\"><img src=\"https://colab.research.google.com/assets/colab-badge.svg\" alt=\"Open In Colab\"/></a>"
      ]
    },
    {
      "cell_type": "code",
      "execution_count": 5,
      "metadata": {
        "colab": {
          "base_uri": "https://localhost:8080/"
        },
        "id": "zfiDb0gsI97E",
        "outputId": "20fe1c6f-5888-429d-dfbc-a7ed31f2ac89"
      },
      "outputs": [
        {
          "output_type": "stream",
          "name": "stderr",
          "text": [
            "/usr/local/lib/python3.11/dist-packages/keras/src/layers/core/dense.py:87: UserWarning: Do not pass an `input_shape`/`input_dim` argument to a layer. When using Sequential models, prefer using an `Input(shape)` object as the first layer in the model instead.\n",
            "  super().__init__(activity_regularizer=activity_regularizer, **kwargs)\n"
          ]
        },
        {
          "output_type": "stream",
          "name": "stdout",
          "text": [
            "\n",
            "🌍 Federated Round 1/5\n",
            "  🏠 Training on Site 1\n",
            "  🏠 Training on Site 2\n",
            "\n",
            "🌍 Federated Round 2/5\n",
            "  🏠 Training on Site 1\n",
            "  🏠 Training on Site 2\n",
            "\n",
            "🌍 Federated Round 3/5\n",
            "  🏠 Training on Site 1\n",
            "  🏠 Training on Site 2\n",
            "\n",
            "🌍 Federated Round 4/5\n",
            "  🏠 Training on Site 1\n",
            "  🏠 Training on Site 2\n",
            "\n",
            "🌍 Federated Round 5/5\n",
            "  🏠 Training on Site 1\n",
            "  🏠 Training on Site 2\n",
            "\n",
            "🌍 Evaluating Global Model on Full Dataset\n",
            "\u001b[1m35/35\u001b[0m \u001b[32m━━━━━━━━━━━━━━━━━━━━\u001b[0m\u001b[37m\u001b[0m \u001b[1m1s\u001b[0m 3ms/step - accuracy: 0.9789 - loss: 0.0560\n",
            "🌍 Global Model Accuracy: 0.9676\n",
            "🏠 Site 1 Accuracy: 0.9748\n",
            "🏠 Site 2 Accuracy: 0.9604\n"
          ]
        }
      ],
      "source": [
        "# Federated Learning on Autism Dataset with GRU\n",
        "import pandas as pd\n",
        "import numpy as np\n",
        "from sklearn.model_selection import train_test_split\n",
        "from sklearn.preprocessing import StandardScaler\n",
        "from tensorflow.keras.models import Sequential\n",
        "from tensorflow.keras.layers import Dense, Dropout, BatchNormalization\n",
        "from tensorflow.keras.utils import to_categorical\n",
        "from tensorflow.keras.optimizers import Adam\n",
        "\n",
        "# Load dataset\n",
        "df = pd.read_csv(\"Phenotypic_V1_0b_preprocessed1.csv\")\n",
        "\n",
        "# Keep only numeric columns and target\n",
        "target_column = \"DX_GROUP\"\n",
        "numeric_cols = df.select_dtypes(include=[\"int64\", \"float64\"]).columns.tolist()\n",
        "if target_column not in numeric_cols:\n",
        "    numeric_cols.append(target_column)\n",
        "df = df[numeric_cols].fillna(df[numeric_cols].mean())\n",
        "\n",
        "# Feature-label split\n",
        "X = df.drop(columns=[target_column]).values\n",
        "y = df[target_column].values - 1  # Convert 1/2 to 0/1\n",
        "\n",
        "# Standardize features\n",
        "scaler = StandardScaler()\n",
        "X = scaler.fit_transform(X)\n",
        "\n",
        "# One-hot encode labels\n",
        "num_classes = len(np.unique(y))\n",
        "y_cat = to_categorical(y, num_classes=num_classes)\n",
        "\n",
        "# Simulate 2 federated clients\n",
        "X1, X2, y1, y2 = train_test_split(X, y_cat, test_size=0.5, random_state=42)\n",
        "\n",
        "# Build improved model\n",
        "def build_model(input_shape, num_classes):\n",
        "    model = Sequential()\n",
        "    model.add(Dense(128, activation='relu', input_shape=input_shape))\n",
        "    model.add(BatchNormalization())\n",
        "    model.add(Dropout(0.3))\n",
        "    model.add(Dense(64, activation='relu'))\n",
        "    model.add(BatchNormalization())\n",
        "    model.add(Dropout(0.3))\n",
        "    model.add(Dense(32, activation='relu'))\n",
        "    model.add(Dense(num_classes, activation='softmax'))\n",
        "    model.compile(optimizer=Adam(learning_rate=0.001),\n",
        "                  loss='categorical_crossentropy', metrics=['accuracy'])\n",
        "    return model\n",
        "\n",
        "# Federated training with more local epochs and rounds\n",
        "def federated_train(X_parts, y_parts, rounds=5):\n",
        "    global_model = build_model((X.shape[1],), num_classes)\n",
        "\n",
        "    for r in range(rounds):\n",
        "        print(f\"\\n🌍 Federated Round {r+1}/{rounds}\")\n",
        "        local_weights = []\n",
        "\n",
        "        for i, (X_local, y_local) in enumerate(zip(X_parts, y_parts)):\n",
        "            print(f\"  🏠 Training on Site {i+1}\")\n",
        "            model = build_model((X.shape[1],), num_classes)\n",
        "            model.set_weights(global_model.get_weights())\n",
        "            model.fit(X_local, y_local, epochs=10, verbose=0)  # More local training\n",
        "            local_weights.append(model.get_weights())\n",
        "\n",
        "        # FedAvg aggregation\n",
        "        new_weights = [np.mean(w, axis=0) for w in zip(*local_weights)]\n",
        "        global_model.set_weights(new_weights)\n",
        "\n",
        "    return global_model\n",
        "\n",
        "# Train the global federated model\n",
        "X_parts = [X1, X2]\n",
        "y_parts = [y1, y2]\n",
        "global_model = federated_train(X_parts, y_parts, rounds=5)\n",
        "\n",
        "# Evaluate global model\n",
        "print(\"\\n🌍 Evaluating Global Model on Full Dataset\")\n",
        "loss, acc = global_model.evaluate(X, y_cat, verbose=1)\n",
        "print(f\"🌍 Global Model Accuracy: {acc:.4f}\")\n",
        "\n",
        "# Evaluate each site\n",
        "for i, (X_local, y_local) in enumerate(zip(X_parts, y_parts)):\n",
        "    _, acc_local = global_model.evaluate(X_local, y_local, verbose=0)\n",
        "    print(f\"🏠 Site {i+1} Accuracy: {acc_local:.4f}\")\n"
      ]
    }
  ]
}